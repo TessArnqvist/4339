{
 "cells": [
  {
   "cell_type": "markdown",
   "metadata": {
    "slideshow": {
     "slide_type": "slide"
    }
   },
   "source": [
    "### Code Lecture 0: Introduction\n",
    "**2024.09.09**\n",
    "\n",
    "*Ge Yu  - Partially based on notebooks and codes from the mini-course Introduction to Python 3 by Antoine Gustin <antoine.gustin@hhs.se>*\n",
    "\n",
    "<ge.yu@hhs.se>\n",
    "\n",
    "\n",
    "***"
   ]
  },
  {
   "cell_type": "markdown",
   "metadata": {},
   "source": [
    "#### Section 1. Get Started\n",
    "\n",
    "##### 1.1 Why Python?"
   ]
  },
  {
   "cell_type": "markdown",
   "metadata": {},
   "source": [
    "* FREE and open-source\n",
    "\n",
    "* Rich ecosystem of libraries: `pandas`, `numpy`, `matplotlib`, `scikit-learn` (`sklearn`), etc\n",
    "\n",
    "* Strong community support: one of the largest and most active coding community; important for generative AI!\n",
    "\n",
    "* Extremely versatile: from simple tasks in data science to trendy tools in big data such as `pyspark` and machine learning such as `pytorch`\n",
    "\n",
    "* Easy to get started: matters most as a beginner in programming and a student in finance"
   ]
  },
  {
   "cell_type": "markdown",
   "metadata": {},
   "source": [
    "##### 1.2 Install Python through Anaconda and (optional) Coding with VS Code"
   ]
  },
  {
   "cell_type": "markdown",
   "metadata": {},
   "source": [
    "* Please refer to the mini-course if you encounter problems in installing Anaconda.\n",
    "\n",
    "&emsp;&emsp;&emsp;*Check numerous videos on YouTube if the problem persists*\n",
    "\n",
    "* We recommend coding with Visual Studio Code\n",
    "\n",
    "&emsp;&emsp;&emsp;*The mini-course by Antoine（<antoine.gustin@hhs.se>）provides details on get it installed and properly set*\n",
    "\n",
    "* For this course, we will use Jupyter Notebook for seminars and homeworks\n",
    "\n",
    "&emsp;&emsp;&emsp;*If you do not like VS Code, you can find its web-based application under Anaconda Navigator or simply search for Jupyter Notebook*"
   ]
  },
  {
   "cell_type": "markdown",
   "metadata": {},
   "source": [
    "##### 1.3 Introduction to Jupyter Notebook"
   ]
  },
  {
   "cell_type": "markdown",
   "metadata": {},
   "source": [
    "* A shareable document combining codes, plain language descriptions, data, visualizations and interactive controls\n",
    "\n",
    "&emsp;&emsp;&emsp;In short for this class: cells combined of Python codes and plain languages\n",
    "\n",
    "&emsp;&emsp;&emsp;Documentation: https://jupyter-notebook.readthedocs.io/en/latest/\n",
    "\n",
    "* Write plain language descriptions in Markdown\n",
    "\n",
    "&emsp;&emsp;&emsp;Check the guide for basic syntax elements: https://www.markdownguide.org/cheat-sheet/\n",
    "\n",
    "&emsp;&emsp;&emsp;*You can also learn these basic elements from this file*\n",
    "\n"
   ]
  },
  {
   "cell_type": "markdown",
   "metadata": {},
   "source": [
    "##### 1.4 Writing Math in Markdown\n",
    "\n",
    "* Some very basic examples of writing mathematical formulae in Markdown\n",
    "\n",
    "&emsp;&emsp;&emsp;*Similar to $\\LaTeX$*"
   ]
  },
  {
   "cell_type": "markdown",
   "metadata": {},
   "source": [
    "a+b/c"
   ]
  },
  {
   "cell_type": "markdown",
   "metadata": {},
   "source": [
    "a. Elementary arithmetic: $a + b\\div c$\n",
    "\n",
    "b. *Display style* equations: $$ V = \\frac{4}{3}\\pi r^3 $$"
   ]
  },
  {
   "cell_type": "markdown",
   "metadata": {},
   "source": [
    "c. Basic calculus:\n",
    "$$ \\frac{\\partial u}{\\partial t} = k\\left( \\frac{\\partial^2 u}{\\partial x^2} + \\frac{\\partial^2 u}{\\partial y^2} + \\frac{\\partial^2 u}{\\partial z^2} \\right) $$\n",
    "\n",
    "$$ F(s) = \\int_0^{\\infty} f(t)e^{-st} dt$$"
   ]
  },
  {
   "cell_type": "markdown",
   "metadata": {},
   "source": [
    "d. You can tag your formulae for better reference:\n",
    "$$\\sin\\alpha = \\frac{2\\tan\\frac{\\alpha}{2}}{1 + \\tan^2\\frac{\\alpha}{2}} \\tag{1.4.0}$$"
   ]
  },
  {
   "cell_type": "markdown",
   "metadata": {},
   "source": [
    "e. Some examples from Lecture 1 & 2:"
   ]
  },
  {
   "cell_type": "markdown",
   "metadata": {},
   "source": [
    "* **Risk premium**:\n",
    "$$\\mathbb{E}[r_i^e] = \\mathbb{E}[r_i] - r_f \\tag{1.4.1}$$"
   ]
  },
  {
   "cell_type": "markdown",
   "metadata": {},
   "source": [
    "* **Sample variance**:\n",
    "$$\\hat{\\sigma}^2 = \\frac{1}{T-1} \\sum_{t=1}^{T} (r_t - \\bar{r})^2 $$"
   ]
  },
  {
   "cell_type": "markdown",
   "metadata": {
    "slideshow": {
     "slide_type": "slide"
    }
   },
   "source": [
    "* **Maximization problem for MV investors with risk aversion $a$**:\n",
    "$$U(w) = r_f + w\\mathbb{E}[r^e] - \\frac{a}{2} w^2 \\sigma^2$$\n",
    "$$\\rightarrow \\frac{\\partial U(w)}{\\partial w} = \\mathbb{E}[r^e] - aw\\sigma^2 = 0 \\tag{1.4.2}$$\n",
    "\n",
    "***"
   ]
  },
  {
   "cell_type": "markdown",
   "metadata": {},
   "source": [
    "#### Section 2. Fundamentals of the Python Language\n",
    "\n",
    "##### 2.1 Install Python packages"
   ]
  },
  {
   "cell_type": "markdown",
   "metadata": {},
   "source": [
    "* Use a Python package installer:\n",
    "\n",
    "&emsp;&emsp;&emsp;a. **PyPI** using `pip`: In a terminal or Python shell - `pip install [package name]`\n",
    "\n",
    "&emsp;&emsp;&emsp;***Note***: *You can also use `pip3` as long as you only have Python3 installed in your system*\n",
    "\n",
    "&emsp;&emsp;&emsp;b. **Conda** using `conda`: In a terminal or Python shell - `conda install [package name]`\n",
    "\n",
    "*<center> No big differences for starters </center>*\n",
    "\n",
    "* Normally, for this course, you do not need to install extra packages if you have Anaconda ready, except `yfinance`"
   ]
  },
  {
   "cell_type": "markdown",
   "metadata": {},
   "source": [
    "##### 2.2 Import packages\n",
    "\n",
    "* Common command: \n",
    "\n",
    "`import [package name] as [alias]` \n",
    "\n",
    "* If you do not need the **whole** package: \n",
    "\n",
    "`from [package name] import [function name, variable name, class name, ...]`\n",
    "\n",
    "* Make sure you have the packages installed before importing"
   ]
  },
  {
   "cell_type": "code",
   "execution_count": 1,
   "metadata": {},
   "outputs": [],
   "source": [
    "import pandas as pd\n",
    "import numpy as np\n",
    "import matplotlib.pyplot as plt"
   ]
  },
  {
   "cell_type": "markdown",
   "metadata": {},
   "source": [
    "##### 2.3 Core packages for this course (and Empirical Methods in Finance)"
   ]
  },
  {
   "cell_type": "markdown",
   "metadata": {},
   "source": [
    "* **Pandas**:\n",
    "\n",
    "&emsp;&emsp;&emsp;A (most) popular Python package for data manipulation and analysis. \n",
    "\n",
    "&emsp;&emsp;&emsp;Here is a quick introduction:"
   ]
  },
  {
   "cell_type": "code",
   "execution_count": 11,
   "metadata": {},
   "outputs": [
    {
     "name": "stdout",
     "output_type": "stream",
     "text": [
      "  name  age  score_1  score_2\n",
      "0  Jon   29      3.0      9.2\n",
      "   name  age  score_1  score_2\n",
      "4  Jane   47      5.0      6.0\n"
     ]
    }
   ],
   "source": [
    "df = pd.DataFrame({\n",
    "    'name': ['Jon', 'Jean', 'Jan', 'John', 'Jane'],  # Data for first column\n",
    "    'age': [29, 56, 31, 25, 47],                    # Data for second column\n",
    "    'score_1': [3.0, 5.0, 0.5, 1.5, 5.0],           # and so on...\n",
    "    'score_2': [9.2, 7.7, 5.3, 6.1, 6.0],\n",
    "})\n",
    "\n",
    "print(df.head(3))  # Display DataFrame first three columns\n",
    "print(df.tail(3))  # Display DataFrame last three columns"
   ]
  },
  {
   "cell_type": "markdown",
   "metadata": {},
   "source": [
    "* **NumPy**:\n",
    "\n",
    "&emsp;&emsp;&emsp;A widely-used module facilitating operations with arrays and matrices"
   ]
  },
  {
   "cell_type": "code",
   "execution_count": 12,
   "metadata": {},
   "outputs": [
    {
     "name": "stdout",
     "output_type": "stream",
     "text": [
      "Here is a 1-dimensional array:\n",
      "[0 1 2 3 4]\n",
      "Here is a (4,3) 2-dimensional array:\n",
      "[[3 1 4]\n",
      " [1 5 9]\n",
      " [2 6 5]\n",
      " [3 5 8]]\n",
      "Here is a (3,4) 2-dimensional array:\n",
      "[[1 6 1 8]\n",
      " [0 3 3 9]\n",
      " [8 8 7 5]]\n",
      "Here is the product of b & c using np.dot():\n",
      "[[ 35  53  34  53]\n",
      " [ 73  93  79  98]\n",
      " [ 42  70  55  95]\n",
      " [ 67  97  74 109]]\n",
      "Here is the product of b & c using np.matmul():\n",
      "[[ 35  53  34  53]\n",
      " [ 73  93  79  98]\n",
      " [ 42  70  55  95]\n",
      " [ 67  97  74 109]]\n"
     ]
    }
   ],
   "source": [
    "a = np.array(range(5)) # 1-dimensional array \n",
    "print(f\"Here is a 1-dimensional array:\\n{a}\")\n",
    "\n",
    "b = np.array([  # 2-dimensional array\n",
    "    [3, 1, 4],\n",
    "    [1, 5, 9],\n",
    "    [2, 6, 5],\n",
    "    [3, 5, 8]\n",
    "])\n",
    "print(f\"Here is a (4,3) 2-dimensional array:\\n{b}\")\n",
    "\n",
    "c = np.array([\n",
    "    [1, 6, 1, 8],\n",
    "    [0, 3, 3, 9],\n",
    "    [8, 8, 7, 5]\n",
    "])\n",
    "print(f\"Here is a (3,4) 2-dimensional array:\\n{c}\")\n",
    "\n",
    "# Matrices multiplication\n",
    "# You can also use np.matmul() here\n",
    "# You should stick to np.dot()\n",
    "d_0 = np.dot(b, c)\n",
    "print(f\"Here is the product of b & c using np.dot():\\n{d_0}\")\n",
    "d_1 = np.matmul(b, c)\n",
    "print(f\"Here is the product of b & c using np.matmul():\\n{d_1}\")\n"
   ]
  },
  {
   "cell_type": "markdown",
   "metadata": {},
   "source": [
    "&emsp;&emsp;&emsp;Make sure you check the size of your matrices before multiplication"
   ]
  },
  {
   "cell_type": "code",
   "execution_count": 13,
   "metadata": {},
   "outputs": [
    {
     "name": "stdout",
     "output_type": "stream",
     "text": [
      "shapes (4,3) and (4,4) not aligned: 3 (dim 1) != 4 (dim 0)\n"
     ]
    }
   ],
   "source": [
    "try:\n",
    "    d_err = np.dot(b, d_1)\n",
    "except Exception as e:\n",
    "    print(e)"
   ]
  },
  {
   "cell_type": "markdown",
   "metadata": {},
   "source": [
    "&emsp;&emsp;&emsp;Some other basic operations of matrices:"
   ]
  },
  {
   "cell_type": "code",
   "execution_count": 14,
   "metadata": {},
   "outputs": [
    {
     "name": "stdout",
     "output_type": "stream",
     "text": [
      "Here is the rank of matrix d_0: 3\n",
      "Here are the eigenvalues of matrix d_0:\n",
      "[ 2.94175774e+02 -6.84319618e+00  4.66742248e+00  3.52291824e-14]\n",
      "Here are the eigenvectors of matrix d_0:\n",
      "[[ 0.30179381  0.58322534 -0.67801162  0.68047923]\n",
      " [ 0.58191638 -0.76108632  0.0269187  -0.44831573]\n",
      " [ 0.46091313  0.24496425  0.72697902 -0.48834392]\n",
      " [ 0.59820809  0.14348638 -0.10524788  0.31221988]]\n",
      "Here is the trace of matrix d_0: 292\n",
      "Here is the determinant of matrix d_0: 0.0\n",
      "Singular matrix\n",
      "Here is the transpose of matrix d_0:\n",
      "[[ 35  73  42  67]\n",
      " [ 53  93  70  97]\n",
      " [ 34  79  55  74]\n",
      " [ 53  98  95 109]]\n"
     ]
    }
   ],
   "source": [
    "# rank\n",
    "rank_d = np.linalg.matrix_rank(d_0)\n",
    "print(f\"Here is the rank of matrix d_0: {rank_d}\")\n",
    "\n",
    "# Eigens\n",
    "eigenvalues_d, eigenvectors_d = np.linalg.eig(d_0)\n",
    "print(f\"Here are the eigenvalues of matrix d_0:\\n{eigenvalues_d}\")  # Output: array of eigenvalues\n",
    "print(f\"Here are the eigenvectors of matrix d_0:\\n{eigenvectors_d}\")  # Output: array of eigenvectors\n",
    "\n",
    "# Trace\n",
    "print(f\"Here is the trace of matrix d_0: {np.trace(d_0)}\") \n",
    "\n",
    "# Determinant\n",
    "print(f\"Here is the determinant of matrix d_0: {np.linalg.det(d_0)}\") \n",
    "\n",
    "# Inverse\n",
    "try:\n",
    "    print(f\"Here is the inverse of matrix d_0:\\n{np.linalg.inv(d_0)}\")\n",
    "except Exception as e:\n",
    "    print(e)\n",
    "\n",
    "# Transpose\n",
    "print(f\"Here is the transpose of matrix d_0:\\n{d_0.T}\") "
   ]
  },
  {
   "cell_type": "markdown",
   "metadata": {},
   "source": [
    "* **Matplotlib**\n",
    "\n",
    "&emsp;&emsp;&emsp;A comprehensive library for creating visualizations in Python."
   ]
  },
  {
   "cell_type": "code",
   "execution_count": 6,
   "metadata": {},
   "outputs": [
    {
     "data": {
      "image/png": "[encoded data removed]",
      "text/plain": [
       "<Figure size 1000x600 with 1 Axes>"
      ]
     },
     "metadata": {},
     "output_type": "display_data"
    }
   ],
   "source": [
    "# Create figure with specified size\n",
    "plt.figure(figsize=(10, 6))\n",
    "\n",
    "# Data for the plot\n",
    "x = [1, 2, 3, 4, 5]\n",
    "y = [1, 4, 9, 16, 25]\n",
    "\n",
    "# Create a basic line plot\n",
    "plt.plot(x, y, label='Line')\n",
    "\n",
    "# Add title and labels\n",
    "plt.title('Basic Line Plot')\n",
    "plt.xlabel('X Axis')\n",
    "plt.ylabel('Y Axis')\n",
    "\n",
    "# Display the legend\n",
    "plt.legend()\n",
    "\n",
    "# Show the plot\n",
    "plt.show()"
   ]
  },
  {
   "cell_type": "markdown",
   "metadata": {},
   "source": [
    "* **Seaborn**\n",
    "\n",
    "&emsp;&emsp;&emsp;Built on top of Matplotlib, for more aesthetically pleasing and informative statistical graphics"
   ]
  },
  {
   "cell_type": "code",
   "execution_count": 7,
   "metadata": {},
   "outputs": [],
   "source": [
    "import seaborn as sns"
   ]
  },
  {
   "cell_type": "markdown",
   "metadata": {},
   "source": [
    "* **statsmodels**\n",
    "\n",
    "&emsp;&emsp;&emsp;For statistical models, statistical tests, and statistical data exploration"
   ]
  },
  {
   "cell_type": "code",
   "execution_count": 8,
   "metadata": {},
   "outputs": [],
   "source": [
    "import statsmodels.api as sm"
   ]
  },
  {
   "cell_type": "markdown",
   "metadata": {},
   "source": [
    "* **SciPy**\n",
    "\n",
    "&emsp;&emsp;&emsp;For optimization, linear algebra, integration, interpolation, ODE, etc."
   ]
  },
  {
   "cell_type": "code",
   "execution_count": 9,
   "metadata": {},
   "outputs": [],
   "source": [
    "from scipy.optimize import minimize"
   ]
  },
  {
   "cell_type": "markdown",
   "metadata": {},
   "source": [
    "* There are more to explore! (Most likely won't be covered in this course)\n",
    "\n",
    "&emsp;&emsp;&emsp;**scikit-learn**: For machine learning, built on top of SciPy\n",
    "\n",
    "&emsp;&emsp;&emsp;**BeautifulSoup**: For web scraping; extract data from HTML and XML documents\n",
    "\n",
    "&emsp;&emsp;&emsp;**PyTorch**: For computer vision and natural language processing"
   ]
  },
  {
   "cell_type": "markdown",
   "metadata": {},
   "source": [
    "* We will introduce the detailed applications as the course progresses"
   ]
  },
  {
   "cell_type": "markdown",
   "metadata": {},
   "source": [
    "##### 2.5 Questions so far?"
   ]
  }
 ],
 "metadata": {
  "kernelspec": {
   "display_name": ".venv",
   "language": "python",
   "name": "python3"
  },
  "language_info": {
   "codemirror_mode": {
    "name": "ipython",
    "version": 3
   },
   "file_extension": ".py",
   "mimetype": "text/x-python",
   "name": "python",
   "nbconvert_exporter": "python",
   "pygments_lexer": "ipython3",
   "version": "3.11.5"
  }
 },
 "nbformat": 4,
 "nbformat_minor": 2
}
